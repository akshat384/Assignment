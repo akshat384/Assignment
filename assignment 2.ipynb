{
 "cells": [
  {
   "cell_type": "code",
   "execution_count": 1,
   "id": "0252be70-3e85-4c07-98b1-7cd6c4719db7",
   "metadata": {},
   "outputs": [
    {
     "data": {
      "text/plain": [
       "'Q1. How do you comment code in Python? What are the different types of comments?\\nQ2. What are variables in Python? How do you declare and assign values to variables?\\nQ3. How do you convert one data type to another in Python?\\nQ4. How do you write and execute a Python script from the command line?\\nQ5. Given a list my_list = [1, 2, 3, 4, 5], write the code to slice the list and obtain the sub-list [2, 3].\\nQ6. What is a complex number in mathematics, and how is it represented in Python?\\nQ7. What is the correct way to declare a variable named age and assign the value 25 to it?\\nQ8. Declare a variable named price and assign the value 9.99 to it. What data type does this variable\\nbelong to?\\nQ9. Create a variable named name and assign your full name to it as a string. How would you print the\\nvalue of this variable?\\nQ10. Given the string \"Hello, World!\", extract the substring \"World\".\\nQ11. Create a variable named \"is_student\" and assign it a boolean value indicating whether you are\\ncurrently a student or not.'"
      ]
     },
     "execution_count": 1,
     "metadata": {},
     "output_type": "execute_result"
    }
   ],
   "source": [
    "\"\"\"Q1. How do you comment code in Python? What are the different types of comments?\n",
    "Q2. What are variables in Python? How do you declare and assign values to variables?\n",
    "Q3. How do you convert one data type to another in Python?\n",
    "Q4. How do you write and execute a Python script from the command line?\n",
    "Q5. Given a list my_list = [1, 2, 3, 4, 5], write the code to slice the list and obtain the sub-list [2, 3].\n",
    "Q6. What is a complex number in mathematics, and how is it represented in Python?\n",
    "Q7. What is the correct way to declare a variable named age and assign the value 25 to it?\n",
    "Q8. Declare a variable named price and assign the value 9.99 to it. What data type does this variable\n",
    "belong to?\n",
    "Q9. Create a variable named name and assign your full name to it as a string. How would you print the\n",
    "value of this variable?\n",
    "Q10. Given the string \"Hello, World!\", extract the substring \"World\".\n",
    "Q11. Create a variable named \"is_student\" and assign it a boolean value indicating whether you are\n",
    "currently a student or not.\"\"\""
   ]
  },
  {
   "cell_type": "code",
   "execution_count": null,
   "id": "8d255b75-0471-4a1a-80ad-e1d00bf52727",
   "metadata": {},
   "outputs": [],
   "source": [
    "\n",
    "\n",
    "### Q1. How do you comment code in Python? What are the different types of comments?\n",
    "\n",
    "In Python, you can add comments to your code to make it more readable. There are two types of comments:\n",
    "\n",
    "1. Single-line comments: These start with the `#` symbol. Everything after `#` on that line is considered a comment.\n",
    "   # This is a single-line comment\n",
    "   x = 5  # This is also a single-line comment\n",
    "\n",
    "\n",
    "2.Multi-line comments: These can be created using triple quotes (`'''` or `\"\"\"`). They are typically used for longer comments or documentation strings (docstrings) at the beginning of a module, class, or function.\n",
    "   \n",
    "\n",
    "   \"\"\"\n",
    "   This is a multi-line comment\n",
    "   that spans multiple lines.\n",
    "   \"\"\"\n",
    "\n"
   ]
  },
  {
   "cell_type": "code",
   "execution_count": null,
   "id": "e2aae85f-f4bd-4746-8eaf-87acc183a6e5",
   "metadata": {},
   "outputs": [],
   "source": []
  },
  {
   "cell_type": "code",
   "execution_count": null,
   "id": "d4e4e9ec-7565-4a61-8f6b-a0d13b80654e",
   "metadata": {},
   "outputs": [],
   "source": [
    "Q2. What are variables in Python? How do you declare and assign values to variables?\n",
    "Variables in Python are used to store data values. You declare and assign values to variables by using the assignment operator =.\n",
    "\n",
    "# Variable declaration and assignment\n",
    "x = 10.90\n",
    "name = \"Alice minth\"\n",
    "is_student = True\n"
   ]
  },
  {
   "cell_type": "code",
   "execution_count": null,
   "id": "d34cbfef-d405-4e73-a959-5fca98164260",
   "metadata": {},
   "outputs": [],
   "source": []
  },
  {
   "cell_type": "code",
   "execution_count": 10,
   "id": "8e9f5301-210a-4c2a-9da2-bbb97e4b1195",
   "metadata": {},
   "outputs": [],
   "source": [
    "\"\"\"Q3. How do you convert one data type to another in Python?\n",
    "\n",
    "it can be converted into data types by using built-in functions such as int(), float(), str(), list(), etc.\"\"\"\n",
    "\n",
    "# Convert to integer\n",
    "x = int(\"10\")  # x will be 10\n",
    "\n",
    "# Convert to float\n",
    "y = float(\"3.14\")  # y will be 3.14\n",
    "\n",
    "# Convert to string\n",
    "z = str(100)  # z will be \"100\"\n",
    "\n",
    "# Convert to list\n",
    "my_list = list(\"hello\")  # my_list will be ['h', 'e', 'l', 'l', 'o']\n"
   ]
  },
  {
   "cell_type": "code",
   "execution_count": null,
   "id": "71a78d2d-9c94-4fa0-820c-92841cbdac0a",
   "metadata": {},
   "outputs": [],
   "source": [
    "\"\"\"ques 4 How do you write and execute a Python script from the command line?\n",
    "Write the script: Create a file with a .py extension and write your Python code in it. For example, create a file named script.py.\"\"\"\n",
    "\n",
    "# script.py\n",
    "print(\"Hello, World!\")\n",
    "\n",
    "\"\"\"Execute the script: Open a command line or terminal, navigate to the directory containing script.py, and run the script using the python command.\"\"\"\n",
    "python script.py"
   ]
  },
  {
   "cell_type": "code",
   "execution_count": null,
   "id": "2ef739a8-4064-4df4-b424-e438203a3c09",
   "metadata": {},
   "outputs": [],
   "source": []
  },
  {
   "cell_type": "code",
   "execution_count": 7,
   "id": "fe069ad5-e3bd-416e-973c-cae51bd83216",
   "metadata": {},
   "outputs": [
    {
     "name": "stdout",
     "output_type": "stream",
     "text": [
      "[2, 3]\n"
     ]
    }
   ],
   "source": [
    "\n",
    "\"\"\"Q5.Given a list my_list = [1, 2, 3, 4, 5], write the code to slice the list and obtain the sub-list [2, 3].\"\"\"\n",
    "\n",
    "my_list = [1, 2, 3, 4, 5]\n",
    "sub_list = my_list[1:3]\n",
    "print(sub_list)  \n"
   ]
  },
  {
   "cell_type": "code",
   "execution_count": null,
   "id": "06ef7a87-3810-4a3c-8e4a-d48e3807c934",
   "metadata": {},
   "outputs": [],
   "source": []
  },
  {
   "cell_type": "code",
   "execution_count": 12,
   "id": "ed7d1035-0bec-49d4-817b-893cd20abbac",
   "metadata": {},
   "outputs": [
    {
     "data": {
      "text/plain": [
       "complex"
      ]
     },
     "execution_count": 12,
     "metadata": {},
     "output_type": "execute_result"
    }
   ],
   "source": [
    "\"\"\"Q6. What is a complex number in mathematics, and how is it represented in Python?\n",
    "A complex number in mathematics is a number that has both a real part and an imaginary part. It is typically written in the form \n",
    "𝑎+bi\n",
    "a+bi, where \n",
    "a is the real part and b is the imaginary part.\"\"\"\n",
    "# Using the complex() function\n",
    "z = complex(3, 4)  # z will be (3+4j)\n",
    "\n",
    "# Using the j suffix\n",
    "z = 3 + 4j  # z will be (3+4j)\n",
    "type(z)\n",
    "\n"
   ]
  },
  {
   "cell_type": "code",
   "execution_count": 13,
   "id": "822375e7-5361-4d8b-ae72-2d10554d54b1",
   "metadata": {},
   "outputs": [
    {
     "data": {
      "text/plain": [
       "4.0"
      ]
     },
     "execution_count": 13,
     "metadata": {},
     "output_type": "execute_result"
    }
   ],
   "source": [
    "z.imag"
   ]
  },
  {
   "cell_type": "code",
   "execution_count": 14,
   "id": "1147762d-7fc9-47a1-ad21-5f4a8d9cccfd",
   "metadata": {},
   "outputs": [
    {
     "data": {
      "text/plain": [
       "3.0"
      ]
     },
     "execution_count": 14,
     "metadata": {},
     "output_type": "execute_result"
    }
   ],
   "source": [
    "z.real"
   ]
  },
  {
   "cell_type": "code",
   "execution_count": 16,
   "id": "401e5754-edcc-4ea1-ae31-12f29c8c5923",
   "metadata": {},
   "outputs": [
    {
     "data": {
      "text/plain": [
       "(3-4j)"
      ]
     },
     "execution_count": 16,
     "metadata": {},
     "output_type": "execute_result"
    }
   ],
   "source": [
    "z.conjugate()"
   ]
  },
  {
   "cell_type": "code",
   "execution_count": null,
   "id": "a974b261-9011-488f-8968-1fbf79a7b289",
   "metadata": {},
   "outputs": [],
   "source": []
  },
  {
   "cell_type": "code",
   "execution_count": null,
   "id": "4fba7393-c68a-469c-8a4b-338f3fe6ab6c",
   "metadata": {},
   "outputs": [],
   "source": []
  },
  {
   "cell_type": "code",
   "execution_count": 18,
   "id": "827836dc-e1e9-480e-adb4-713aa3873271",
   "metadata": {},
   "outputs": [
    {
     "name": "stdout",
     "output_type": "stream",
     "text": [
      "25\n"
     ]
    }
   ],
   "source": [
    "\"\"\"q7: What is the correct way to declare a variable named age and assign the value 25 to it?\"\"\"\n",
    "\n",
    "age = 25 \n",
    "\n",
    "print(age)"
   ]
  },
  {
   "cell_type": "code",
   "execution_count": null,
   "id": "ca2bd166-0dfc-40de-8a53-82d193c916c9",
   "metadata": {},
   "outputs": [],
   "source": []
  },
  {
   "cell_type": "code",
   "execution_count": 19,
   "id": "60550881-7530-43a8-a8d1-9a6ecbeaa924",
   "metadata": {},
   "outputs": [
    {
     "name": "stdout",
     "output_type": "stream",
     "text": [
      "<class 'float'> 9.99\n"
     ]
    }
   ],
   "source": [
    "\"\"\"Q8. Declare a variable named price and assign the value 9.99 to it. What data type does this variable belong to?\"\"\"\n",
    "\n",
    "price = 9.99\n",
    "\n",
    "print(type(price),price)"
   ]
  },
  {
   "cell_type": "code",
   "execution_count": null,
   "id": "b8d662e3-02cf-48d0-8ad9-130ef24af797",
   "metadata": {},
   "outputs": [],
   "source": []
  },
  {
   "cell_type": "code",
   "execution_count": 20,
   "id": "bf11a4b5-fd7d-476f-9388-23d67cdb670b",
   "metadata": {},
   "outputs": [
    {
     "name": "stdout",
     "output_type": "stream",
     "text": [
      "Akshat Chawla\n"
     ]
    }
   ],
   "source": [
    "\"\"\"Q9. Create a variable named name and assign your full name to it as a string. How would you print the value of this variable?\"\"\"\n",
    "\n",
    "\n",
    "name = \"Akshat Chawla\"\n",
    "\n",
    "print(name)"
   ]
  },
  {
   "cell_type": "code",
   "execution_count": 22,
   "id": "016e2fe4-cb23-4cc3-8e9a-f94712183b07",
   "metadata": {},
   "outputs": [
    {
     "name": "stdout",
     "output_type": "stream",
     "text": [
      "World\n"
     ]
    }
   ],
   "source": [
    "\"\"\" q 10 : Given the string c, extract the substring \"World\".\"\"\"\n",
    "\n",
    "string = \"Hello, World!\"\n",
    "\n",
    "print(string[7:12])"
   ]
  },
  {
   "cell_type": "code",
   "execution_count": null,
   "id": "0f22e399-a825-4429-8488-da951258bf7a",
   "metadata": {},
   "outputs": [],
   "source": [
    "\"\"\"Q11. Create a variable named is_student and assign it a boolean value indicating whether you are currently a student or not.\"\"\"\n",
    "\n",
    "\n",
    "\n",
    "is_student = True  # or False, depending on your current status\n"
   ]
  }
 ],
 "metadata": {
  "kernelspec": {
   "display_name": "Python 3 (ipykernel)",
   "language": "python",
   "name": "python3"
  },
  "language_info": {
   "codemirror_mode": {
    "name": "ipython",
    "version": 3
   },
   "file_extension": ".py",
   "mimetype": "text/x-python",
   "name": "python",
   "nbconvert_exporter": "python",
   "pygments_lexer": "ipython3",
   "version": "3.10.8"
  }
 },
 "nbformat": 4,
 "nbformat_minor": 5
}
