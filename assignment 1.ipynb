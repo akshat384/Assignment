{
 "cells": [
  {
   "cell_type": "code",
   "execution_count": 2,
   "id": "187192b1-7291-4b16-a271-121dc9790d85",
   "metadata": {},
   "outputs": [
    {
     "data": {
      "text/plain": [
       "' Q1. Create one variable containing following type of data:\\n(i) string\\n(ii) list\\n(iii) float\\n(iv) tuple\\n\\n\\nQ2. Given are some following variables containing data:\\n(i) var1 = ‘ ‘\\n(ii) var2 = ‘[ DS , ML , Python]’\\n(iii) var3 = [ ‘DS’ , ’ML’ , ‘Python’ ]\\n(iv) var4 = 1.\\nWhat will be the data type of the above given variable.\\n\\nQ3. Explain the use of the following operators using an example:\\n(i) /\\n(ii) %\\n(iii) //\\n(iv) **\\n\\nQ4. Create a list of length 10 of your choice containing multiple types of data. Using for loop print the\\nelement and its data type.\\n\\nQ5. Using a while loop, verify if the number A is purely divisible by number B and if so then how many\\ntimes it can be divisible.\\n\\nQ6. Create a list containing 25 int type data. Using for loop and if-else condition print if the element is\\ndivisible by 3 or not.\\n\\nQ7. What do you understand about mutable and immutable data types? Give examples for both showing\\nthis property. '"
      ]
     },
     "execution_count": 2,
     "metadata": {},
     "output_type": "execute_result"
    }
   ],
   "source": [
    "\"\"\" Q1. Create one variable containing following type of data:\n",
    "(i) string\n",
    "(ii) list\n",
    "(iii) float\n",
    "(iv) tuple\n",
    "\n",
    "\n",
    "Q2. Given are some following variables containing data:\n",
    "(i) var1 = ‘ ‘\n",
    "(ii) var2 = ‘[ DS , ML , Python]’\n",
    "(iii) var3 = [ ‘DS’ , ’ML’ , ‘Python’ ]\n",
    "(iv) var4 = 1.\n",
    "What will be the data type of the above given variable.\n",
    "\n",
    "Q3. Explain the use of the following operators using an example:\n",
    "(i) /\n",
    "(ii) %\n",
    "(iii) //\n",
    "(iv) **\n",
    "\n",
    "Q4. Create a list of length 10 of your choice containing multiple types of data. Using for loop print the\n",
    "element and its data type.\n",
    "\n",
    "Q5. Using a while loop, verify if the number A is purely divisible by number B and if so then how many\n",
    "times it can be divisible.\n",
    "\n",
    "Q6. Create a list containing 25 int type data. Using for loop and if-else condition print if the element is\n",
    "divisible by 3 or not.\n",
    "\n",
    "Q7. What do you understand about mutable and immutable data types? Give examples for both showing\n",
    "this property. \"\"\""
   ]
  },
  {
   "cell_type": "code",
   "execution_count": null,
   "id": "6cf5adf4-d455-4502-a2bb-92d81f59e45d",
   "metadata": {},
   "outputs": [],
   "source": []
  },
  {
   "cell_type": "code",
   "execution_count": 5,
   "id": "0b1a94e2-37ca-46a7-a143-bdeb6eec046b",
   "metadata": {},
   "outputs": [],
   "source": [
    "#Q1. Create one variable containing following type of data:\n",
    "    \n",
    "string1 = \"physics wallah\"\n",
    "list1 = [\"a\",\"b\",58,7+8j,90.7]\n",
    "float1 = 89.9\n",
    "tuple1 = (1,2,3,4,5)"
   ]
  },
  {
   "cell_type": "code",
   "execution_count": 7,
   "id": "28067c17-c186-4435-8f13-ccda25a5bb42",
   "metadata": {},
   "outputs": [
    {
     "name": "stdout",
     "output_type": "stream",
     "text": [
      "<class 'str'>\n",
      "<class 'list'>\n",
      "<class 'float'>\n",
      "<class 'tuple'>\n"
     ]
    }
   ],
   "source": [
    "print(type(string1))\n",
    "print(type(list1))\n",
    "print(type(float1))\n",
    "print(type(tuple1))"
   ]
  },
  {
   "cell_type": "code",
   "execution_count": null,
   "id": "52bbf437-7e65-4934-837f-8d821492e14c",
   "metadata": {},
   "outputs": [],
   "source": []
  },
  {
   "cell_type": "code",
   "execution_count": 11,
   "id": "bcc0c609-f400-48bb-b9d5-8e68386401ca",
   "metadata": {},
   "outputs": [],
   "source": [
    "# ques2 Given are some following variables containing data:\n",
    "var1 = \" \"\n",
    "var2 = \"[ DS , ML , Python]\"\n",
    "var3 = [ 'DS' , 'ML' , 'Python' ]\n",
    "var4 = 1.\n",
    "#What will be the data type of the above given variable."
   ]
  },
  {
   "cell_type": "code",
   "execution_count": 12,
   "id": "ec159903-e787-489b-92e2-c59a1ff034d6",
   "metadata": {},
   "outputs": [
    {
     "name": "stdout",
     "output_type": "stream",
     "text": [
      "<class 'str'>\n",
      "<class 'str'>\n",
      "<class 'list'>\n",
      "<class 'float'>\n"
     ]
    }
   ],
   "source": [
    "print(type(var1))\n",
    "print(type(var2))\n",
    "print(type(var3))\n",
    "print(type(var4))"
   ]
  },
  {
   "cell_type": "code",
   "execution_count": null,
   "id": "57ef2e7f-9e55-4787-8c6e-1f07aa3f48f4",
   "metadata": {},
   "outputs": [],
   "source": []
  },
  {
   "cell_type": "code",
   "execution_count": null,
   "id": "1340a596-6d72-4f9d-958d-ca8aadf84e14",
   "metadata": {},
   "outputs": [],
   "source": [
    "#Q3. Explain the use of the following operators using an example:\n",
    "\"\"\"(i) / = Division (float): divides the first operand by the second\n",
    "     syntax = x / y\n",
    "(ii) % = Modulus: returns the remainder when the first operand is divided by the second\n",
    "      syntax = x % y\n",
    "(iii) // =  Division (floor): divides the first operand by the second\n",
    "     syntax = x // y\n",
    "(iv) ** =  Power: Returns first raised to power second\n",
    "     syntax = x**y \n",
    "     \"\"\""
   ]
  },
  {
   "cell_type": "code",
   "execution_count": 15,
   "id": "d4c54e6b-a160-419e-870a-6a016071b07b",
   "metadata": {},
   "outputs": [
    {
     "name": "stdout",
     "output_type": "stream",
     "text": [
      "1.6666666666666667\n",
      "2\n",
      "1\n",
      "125\n"
     ]
    }
   ],
   "source": [
    "a = 5 \n",
    "b = 3\n",
    "c = a/b\n",
    "d= a%b\n",
    "e = a//b\n",
    "f = a**b\n",
    "\n",
    "print(c)\n",
    "print(d)\n",
    "print(e)\n",
    "print(f)"
   ]
  },
  {
   "cell_type": "code",
   "execution_count": null,
   "id": "e3f8dfc7-b8c2-47a6-8312-ff615a0f0508",
   "metadata": {},
   "outputs": [],
   "source": []
  },
  {
   "cell_type": "code",
   "execution_count": 13,
   "id": "f3357a76-e6f1-4cb4-80d1-65c5f0d8a0eb",
   "metadata": {},
   "outputs": [],
   "source": [
    "#Q4. Create a list of length 10 of your choice containing multiple types of data. Using for loop print the\n",
    "#element and its data type.\n",
    "list2 = [\"abc\",\"def\",234,5678,9+9j,89.0,\"pw\",\"happy\",[54,67,78],7+5j]"
   ]
  },
  {
   "cell_type": "code",
   "execution_count": 14,
   "id": "60838f41-77c8-43c7-a0ec-fe16f6226923",
   "metadata": {},
   "outputs": [
    {
     "name": "stdout",
     "output_type": "stream",
     "text": [
      "<class 'str'> abc\n",
      "<class 'str'> def\n",
      "<class 'int'> 234\n",
      "<class 'int'> 5678\n",
      "<class 'complex'> (9+9j)\n",
      "<class 'float'> 89.0\n",
      "<class 'str'> pw\n",
      "<class 'str'> happy\n",
      "<class 'list'> [54, 67, 78]\n",
      "<class 'complex'> (7+5j)\n"
     ]
    }
   ],
   "source": [
    "for i in list2:\n",
    "    print(type(i),i)"
   ]
  },
  {
   "cell_type": "code",
   "execution_count": null,
   "id": "a0ce5ead-a3da-417d-921f-e0f6033c494b",
   "metadata": {},
   "outputs": [],
   "source": []
  },
  {
   "cell_type": "code",
   "execution_count": 4,
   "id": "04c75382-5dfc-4d83-8c0a-21f7a24f89a5",
   "metadata": {},
   "outputs": [
    {
     "name": "stdout",
     "output_type": "stream",
     "text": [
      "100 is divisible by 5 2 times.\n"
     ]
    }
   ],
   "source": [
    "\"\"\"Q5. Using a while loop, verify if the number A is purely divisible by number B and if so then how many\n",
    "times it can be divisible.\"\"\"\n",
    "\n",
    "def count_divisions(a, b):\n",
    "    count = 0\n",
    "    while a % b == 0:\n",
    "        a = a // b  # Perform integer division\n",
    "        count += 1  # Increment the count\n",
    "    return count\n",
    "\n",
    "# Example usage:\n",
    "A = 100\n",
    "B = 5\n",
    "divisions = count_divisions(A, B)\n",
    "print(f\"{A} is divisible by {B} {divisions} times.\")\n"
   ]
  },
  {
   "cell_type": "code",
   "execution_count": null,
   "id": "7f23ea82-9697-460d-87ae-9f435dba60ef",
   "metadata": {},
   "outputs": [],
   "source": []
  },
  {
   "cell_type": "code",
   "execution_count": 3,
   "id": "9a71ed1e-97c8-4d70-8b50-64523e8d2b68",
   "metadata": {},
   "outputs": [
    {
     "name": "stdout",
     "output_type": "stream",
     "text": [
      "1 is not divisible by 3\n",
      "2 is not divisible by 3\n",
      "3 is divisible by 3\n",
      "4 is not divisible by 3\n",
      "5 is not divisible by 3\n",
      "6 is divisible by 3\n",
      "7 is not divisible by 3\n",
      "8 is not divisible by 3\n",
      "9 is divisible by 3\n",
      "10 is not divisible by 3\n",
      "11 is not divisible by 3\n",
      "12 is divisible by 3\n",
      "13 is not divisible by 3\n",
      "14 is not divisible by 3\n",
      "15 is divisible by 3\n",
      "16 is not divisible by 3\n",
      "17 is not divisible by 3\n",
      "18 is divisible by 3\n",
      "19 is not divisible by 3\n",
      "20 is not divisible by 3\n",
      "21 is divisible by 3\n",
      "22 is not divisible by 3\n",
      "23 is not divisible by 3\n",
      "24 is divisible by 3\n",
      "25 is not divisible by 3\n"
     ]
    }
   ],
   "source": [
    "#Q6. Create a list containing 25 int type data. Using for loop and if-else condition print if the element is\n",
    "#divisible by 3 or not\n",
    "\n",
    "\n",
    "# Create a list of 25 integers\n",
    "int_list = [i for i in range(1, 26)]  # This will create a list [1, 2, 3, ..., 25]\n",
    "\n",
    "# Loop through the list and check if each element is divisible by 3\n",
    "for num in int_list:\n",
    "    if num % 3 == 0:\n",
    "        print(f\"{num} is divisible by 3\")\n",
    "    else:\n",
    "        print(f\"{num} is not divisible by 3\")\n",
    "\n"
   ]
  },
  {
   "cell_type": "code",
   "execution_count": null,
   "id": "09881cea-fafc-46fd-ad57-fd06c966cb86",
   "metadata": {},
   "outputs": [],
   "source": []
  },
  {
   "cell_type": "code",
   "execution_count": null,
   "id": "2020954d-5b86-4b91-969a-9a843dd2616a",
   "metadata": {},
   "outputs": [],
   "source": [
    "\"\"\"Q7. What do you understand about mutable and immutable data types? Give examples for both showing\n",
    "this property.\n",
    "\n",
    "In Python, data types can be classified as mutable or immutable based on whether their state can be modified after they are created.\n",
    "\n",
    "### Immutable Data Types\n",
    "\n",
    "Immutable data types are those whose values cannot be changed after they are created. Any operation that tries to modify the value of an immutable object will result in the creation of a new object. Examples of immutable data types include:\n",
    "\n",
    "- Integers\n",
    "- Floats\n",
    "- Strings\n",
    "- Tuples \"\"\"\n",
    "\n",
    "#Example: Immutable Data Types\n",
    "\n",
    "\n",
    "# Integer example\n",
    "a = 10\n",
    "print(id(a))  # Prints the memory address of 'a'\n",
    "a = a + 1\n",
    "print(id(a))  # Prints a different memory address, since a new object was created\n",
    "\n",
    "# String example\n",
    "s = \"hello\"\n",
    "print(id(s))  # Prints the memory address of 's'\n",
    "s = s + \" world\"\n",
    "print(id(s))  # Prints a different memory address, since a new object was created\n",
    "\n",
    "# Tuple example\n",
    "t = (1, 2, 3)\n",
    "print(id(t))  # Prints the memory address of 't'\n",
    "t = t + (4, 5)\n",
    "print(id(t))  # Prints a different memory address, since a new object was created\n",
    "\n",
    "\n",
    "### Mutable Data Types\n",
    "\n",
    "\"\"\"Mutable data types are those whose values can be changed after they are created without creating a new object. Examples of mutable data types include:\n",
    "\n",
    "-Lists\n",
    "-Dictionaries\n",
    "-Sets\"\"\"\n",
    "#Example: Mutable Data Types\n",
    "\n",
    "python\n",
    "# List example\n",
    "lst = [1, 2, 3]\n",
    "print(id(lst))  # Prints the memory address of 'lst'\n",
    "lst.append(4)\n",
    "print(id(lst))  # Prints the same memory address, since the list was modified in place\n",
    "\n",
    "# Dictionary example\n",
    "d = {'a': 1, 'b': 2}\n",
    "print(id(d))  # Prints the memory address of 'd'\n",
    "d['c'] = 3\n",
    "print(id(d))  # Prints the same memory address, since the dictionary was modified in place\n",
    "\n",
    "# Set example\n",
    "s = {1, 2, 3}\n",
    "print(id(s))  # Prints the memory address of 's'\n",
    "s.add(4)\n",
    "print(id(s))  # Prints the same memory address, since the set was modified in place\n",
    "\n",
    "\n"
   ]
  }
 ],
 "metadata": {
  "kernelspec": {
   "display_name": "Python 3 (ipykernel)",
   "language": "python",
   "name": "python3"
  },
  "language_info": {
   "codemirror_mode": {
    "name": "ipython",
    "version": 3
   },
   "file_extension": ".py",
   "mimetype": "text/x-python",
   "name": "python",
   "nbconvert_exporter": "python",
   "pygments_lexer": "ipython3",
   "version": "3.10.8"
  }
 },
 "nbformat": 4,
 "nbformat_minor": 5
}
