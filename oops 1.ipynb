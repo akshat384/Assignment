{
 "cells": [
  {
   "cell_type": "code",
   "execution_count": null,
   "id": "49a9764c-8c18-4f38-815f-be2da0b842bd",
   "metadata": {},
   "outputs": [],
   "source": [
    "Q1, Create a vehicle class with an init method having instance variables as name_of_vehicle, max_speed\n",
    "and average_of_vehicle.\n",
    "Q2. Create a child class car from the vehicle class created in Que 1, which will inherit the vehicle class.\n",
    "Create a method named seating_capacity which takes capacity as an argument and returns the name of\n",
    "the vehicle and its seating capacity.\n",
    "Q3. What is multiple inheritance? Write a python code to demonstrate multiple inheritance.\n",
    "Q4. What are getter and setter in python? Create a class and create a getter and a setter method in this\n",
    "class.\n",
    "Q5.What is method overriding in python? Write a python code to demonstrate method overriding."
   ]
  },
  {
   "cell_type": "code",
   "execution_count": null,
   "id": "1b7c8e6f-bb9b-4e98-a02d-ef9a61d561ed",
   "metadata": {},
   "outputs": [],
   "source": []
  },
  {
   "cell_type": "code",
   "execution_count": 1,
   "id": "37874327-9b15-47ec-be4d-3f8974d8ee53",
   "metadata": {},
   "outputs": [],
   "source": [
    "#ans 1 \n",
    "class Vehicle:\n",
    "    def __init__(self, name_of_vehicle, max_speed, average_of_vehicle):\n",
    "        self.name_of_vehicle = name_of_vehicle\n",
    "        self.max_speed = max_speed\n",
    "        self.average_of_vehicle = average_of_vehicle\n"
   ]
  },
  {
   "cell_type": "code",
   "execution_count": null,
   "id": "58fc3426-0c5b-430d-8af5-7732fb31c85f",
   "metadata": {},
   "outputs": [],
   "source": []
  },
  {
   "cell_type": "code",
   "execution_count": 2,
   "id": "768dbf3b-5dce-4b86-b654-4d9e8ee2b5b2",
   "metadata": {},
   "outputs": [
    {
     "name": "stdout",
     "output_type": "stream",
     "text": [
      "The Toyota Camry has a seating capacity of 5.\n"
     ]
    }
   ],
   "source": [
    "#ans2\n",
    "class Car(Vehicle):\n",
    "    def __init__(self, name_of_vehicle, max_speed, average_of_vehicle):\n",
    "        super().__init__(name_of_vehicle, max_speed, average_of_vehicle)\n",
    "\n",
    "    def seating_capacity(self, capacity):\n",
    "        return f\"The {self.name_of_vehicle} has a seating capacity of {capacity}.\"\n",
    "\n",
    "# Example usage:\n",
    "car1 = Car(\"Toyota Camry\", 180, 25)\n",
    "print(car1.seating_capacity(5))\n"
   ]
  },
  {
   "cell_type": "code",
   "execution_count": null,
   "id": "7d749567-8db7-4190-b320-b5b45105b64a",
   "metadata": {},
   "outputs": [],
   "source": []
  },
  {
   "cell_type": "code",
   "execution_count": null,
   "id": "e05b243b-c06c-415c-964f-1929c3ce1565",
   "metadata": {},
   "outputs": [],
   "source": [
    "#awnser3 \n",
    "#Multiple inheritance in Python refers to the ability of a class to inherit attributes and methods from more than one parent class. This means a child class can inherit from two or more parent classes."
   ]
  },
  {
   "cell_type": "code",
   "execution_count": null,
   "id": "3956320c-5340-43b9-8290-b81219111be5",
   "metadata": {},
   "outputs": [],
   "source": []
  },
  {
   "cell_type": "code",
   "execution_count": null,
   "id": "7553c1af-aa20-4567-8cde-65211994bf16",
   "metadata": {},
   "outputs": [],
   "source": [
    "# awnser4 \n",
    "Getter and setter methods are used to access and modify the attributes of an object in a controlled manner, often allowing validation or computation during the process. Here's an example class demonstrating getter and setter methods:\n",
    "\n",
    "class Person:\n",
    "    def __init__(self, name, age):\n",
    "        self._name = name\n",
    "        self._age = age\n",
    "\n",
    "    def get_name(self):\n",
    "        return self._name\n",
    "\n",
    "    def set_name(self, name):\n",
    "        self._name = name\n",
    "\n",
    "    def get_age(self):\n",
    "        return self._age\n",
    "\n",
    "    def set_age(self, age):\n",
    "        if age > 0:\n",
    "            self._age = age\n",
    "        else:\n",
    "            print(\"Age cannot be negative.\")\n",
    "\n",
    "# Example usage:\n",
    "person1 = Person(\"Alice\", 30)\n",
    "print(person1.get_name())  # Output: Alice\n",
    "person1.set_age(25)\n",
    "print(person1.get_age())   # Output: 25\n"
   ]
  },
  {
   "cell_type": "code",
   "execution_count": null,
   "id": "0170b65a-bbeb-464f-b8f4-ff755c93c073",
   "metadata": {},
   "outputs": [],
   "source": []
  },
  {
   "cell_type": "code",
   "execution_count": null,
   "id": "ebd8d87e-cc8d-450d-b68b-b14b027088ea",
   "metadata": {},
   "outputs": [],
   "source": [
    "# awnser5 \n",
    "Method overriding occurs when a child class provides a specific implementation of a method that is already defined in its parent class. Here's an example demonstrating method overriding:\n",
    "\n"
   ]
  }
 ],
 "metadata": {
  "kernelspec": {
   "display_name": "Python 3 (ipykernel)",
   "language": "python",
   "name": "python3"
  },
  "language_info": {
   "codemirror_mode": {
    "name": "ipython",
    "version": 3
   },
   "file_extension": ".py",
   "mimetype": "text/x-python",
   "name": "python",
   "nbconvert_exporter": "python",
   "pygments_lexer": "ipython3",
   "version": "3.10.8"
  }
 },
 "nbformat": 4,
 "nbformat_minor": 5
}
