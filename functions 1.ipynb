{
 "cells": [
  {
   "cell_type": "code",
   "execution_count": null,
   "id": "f8f9c513-c971-4248-b9d7-3e6342314b86",
   "metadata": {},
   "outputs": [],
   "source": [
    "Q1. Which keyword is used to create a function? Create a function to return a list of odd numbers in the\n",
    "range of 1 to 25.\n",
    "Q2. Why *args and **kwargs is used in some functions? Create a function each for *args and **kwargs\n",
    "to demonstrate their use.\n",
    "Q3. What is an iterator in python? Name the method used to initialise the iterator object and the method\n",
    "used for iteration. Use these methods to print the first five elements of the given list [2, 4, 6, 8, 10, 12, 14,\n",
    "16, 18, 20].\n",
    "Q4. What is a generator function in python? Why yield keyword is used? Give an example of a generator\n",
    "function.\n",
    "Q5. Create a generator function for prime numbers less than 1000. Use the next() method to print the\n",
    "first 20 prime numbers.\n",
    "Q6. Write a python program to print the first 10 Fibonacci numbers using a while loop.\n",
    "Q7. Write a List Comprehension to iterate through the given string: ‘pwskills’.\n",
    "Expected output: ['p', 'w', 's', 'k', 'i', 'l', 'l', 's']\n",
    "Q8. Write a python program to check whether a given number is Palindrome or not using a while loop.\n",
    "Q9. Write a code to print odd numbers from 1 to 100 using list comprehension.\n",
    "Note: Use a list comprehension to create a list from 1 to 100 and use another List comprehension to filter\n",
    "out odd numbers."
   ]
  },
  {
   "cell_type": "code",
   "execution_count": 9,
   "id": "b3691d2f-0999-41b5-ae69-cba11aad0474",
   "metadata": {},
   "outputs": [
    {
     "name": "stdout",
     "output_type": "stream",
     "text": [
      "[1, 3, 5, 7, 9, 11, 13, 15, 17, 19, 21, 23, 25]\n"
     ]
    }
   ],
   "source": [
    "\"\"\"Q1:Which keyword is used to create a function? Create a function to return a list of odd numbers in the\n",
    "range of 1 to 25\"\"\"\n",
    "#The def keyword is used to create a function in Python.\n",
    "def odd_numbers():\n",
    "    return [num for num in range(1, 26) if num % 2 != 0]\n",
    "\n",
    "# Test the function\n",
    "print(odd_numbers())\n"
   ]
  },
  {
   "cell_type": "code",
   "execution_count": null,
   "id": "6e28642d-20ba-4b91-b433-4f741894c206",
   "metadata": {},
   "outputs": [],
   "source": []
  },
  {
   "cell_type": "code",
   "execution_count": 11,
   "id": "9265b7d9-4491-407c-bdc9-e010bba46762",
   "metadata": {},
   "outputs": [
    {
     "name": "stdout",
     "output_type": "stream",
     "text": [
      "15\n",
      "30\n"
     ]
    }
   ],
   "source": [
    "\"\"\"Q2. Why *args and **kwargs are used in some functions? Create a function each for *args and **kwargs to demonstrate their use.\n",
    "*args and **kwargs are used to allow a function to accept a variable number of positional and keyword arguments, respectively.\"\"\"\n",
    "\n",
    "#Function with *args\n",
    "#*args allows a function to accept any number of positional arguments:\n",
    "\n",
    "def sum_all(*args):\n",
    "    return sum(args)\n",
    "\n",
    "# Test the function\n",
    "print(sum_all(1, 2, 3, 4, 5))  # Output: 15\n",
    "print(sum_all(10, 20))         # Output: 30\n"
   ]
  },
  {
   "cell_type": "code",
   "execution_count": 12,
   "id": "fc564b3b-410a-4051-bcb4-9422bf49b7f2",
   "metadata": {},
   "outputs": [
    {
     "name": "stdout",
     "output_type": "stream",
     "text": [
      "name: Alice\n",
      "age: 30\n",
      "city: New York\n"
     ]
    }
   ],
   "source": [
    "#function with **kwargs\n",
    "#**kwargs allows a function to accept any number of keyword arguments\n",
    "def print_details(**kwargs):\n",
    "    for key, value in kwargs.items():\n",
    "        print(f\"{key}: {value}\")\n",
    "\n",
    "# Test the function\n",
    "print_details(name=\"Alice\", age=30, city=\"New York\")\n"
   ]
  },
  {
   "cell_type": "code",
   "execution_count": null,
   "id": "efaeb495-0811-4b88-9cad-5e3da27167b2",
   "metadata": {},
   "outputs": [],
   "source": []
  },
  {
   "cell_type": "code",
   "execution_count": 14,
   "id": "9680c897-aae8-40e2-b162-e244c3c0a7c7",
   "metadata": {},
   "outputs": [
    {
     "name": "stdout",
     "output_type": "stream",
     "text": [
      "2\n",
      "4\n",
      "6\n",
      "8\n",
      "10\n"
     ]
    }
   ],
   "source": [
    "\"\"\"Q3. What is an iterator in Python? Name the method used to initialise the iterator object and the method used for iteration. Use these methods to print the first five elements of the given list [2, 4, 6, 8, 10, 12, 14, 16, 18, 20].\"\"\"\n",
    "\n",
    "#An iterator in Python is an object that can be iterated (looped) upon. It implements the iterator protocol, which consists of the methods __iter__() and __next__().\n",
    "\n",
    "#__iter__() method is used to initialize the iterator object.\n",
    "\n",
    "#__next__() method is used for iteration\n",
    "# Given list\n",
    "numbers = [2, 4, 6, 8, 10, 12, 14, 16, 18, 20]\n",
    "\n",
    "# Create an iterator object\n",
    "iterator = iter(numbers)\n",
    "\n",
    "# Iterate and print the first five elements\n",
    "for _ in range(5):\n",
    "    print(next(iterator))\n"
   ]
  },
  {
   "cell_type": "code",
   "execution_count": null,
   "id": "7ed122c5-85ec-4ae8-98cd-6cad8afff112",
   "metadata": {},
   "outputs": [],
   "source": []
  },
  {
   "cell_type": "code",
   "execution_count": 16,
   "id": "ed3189e1-fada-4cc3-af28-847f52979faa",
   "metadata": {},
   "outputs": [],
   "source": [
    "\"\"\"Q4. What is a generator function in Python? Why is the yield keyword used? Give an example of a generator function.\"\"\"\n",
    "#A generator function in Python is a special type of function that returns an iterator. It generates values one at a time and can pause its state between each value generation, which allows for memory-efficient processing of large sequences of data.\n",
    "\n",
    "#The yield keyword is used in a generator function to return a value and pause the function’s execution, allowing it to be resumed later.\n",
    "\n",
    "def fibb(n):\n",
    "    a,b=0,1\n",
    "    for i in range(5):\n",
    "        yield a\n",
    "        a,b = b , a+b"
   ]
  },
  {
   "cell_type": "code",
   "execution_count": 17,
   "id": "7f5d1359-cbcd-4eee-a350-7ccfefe85f47",
   "metadata": {},
   "outputs": [
    {
     "name": "stdout",
     "output_type": "stream",
     "text": [
      "0\n",
      "1\n",
      "1\n",
      "2\n",
      "3\n"
     ]
    }
   ],
   "source": [
    "for i in fibb(5):\n",
    "    print(i)"
   ]
  },
  {
   "cell_type": "code",
   "execution_count": 18,
   "id": "18890fc9-74cf-4f36-8056-4c228fe5b55f",
   "metadata": {},
   "outputs": [
    {
     "name": "stdout",
     "output_type": "stream",
     "text": [
      "2\n",
      "3\n",
      "5\n",
      "7\n",
      "11\n",
      "13\n",
      "17\n",
      "19\n",
      "23\n",
      "29\n",
      "31\n",
      "37\n",
      "41\n",
      "43\n",
      "47\n",
      "53\n",
      "59\n",
      "61\n",
      "67\n",
      "71\n"
     ]
    }
   ],
   "source": [
    "\"\"\"Q5. Create a generator function for prime numbers less than 1000. Use the next() method to print the first 20 prime numbers.\"\"\"\n",
    "\n",
    "def is_prime(n):\n",
    "    if n <= 1:\n",
    "        return False\n",
    "    for i in range(2, int(n ** 0.5) + 1):\n",
    "        if n % i == 0:\n",
    "            return False\n",
    "    return True\n",
    "\n",
    "def prime_generator(limit):\n",
    "    num = 2\n",
    "    while num < limit:\n",
    "        if is_prime(num):\n",
    "            yield num\n",
    "        num += 1\n",
    "\n",
    "# Create the generator\n",
    "primes = prime_generator(1000)\n",
    "\n",
    "# Print the first 20 prime numbers\n",
    "for _ in range(20):\n",
    "    print(next(primes))\n"
   ]
  },
  {
   "cell_type": "code",
   "execution_count": null,
   "id": "e0598017-7822-4ca5-b24d-7a29aa3ac771",
   "metadata": {},
   "outputs": [],
   "source": []
  },
  {
   "cell_type": "code",
   "execution_count": 19,
   "id": "b0343e48-e858-4337-a5db-4cb757185f09",
   "metadata": {},
   "outputs": [
    {
     "name": "stdout",
     "output_type": "stream",
     "text": [
      "0\n",
      "1\n",
      "1\n",
      "2\n",
      "3\n",
      "5\n",
      "8\n",
      "13\n",
      "21\n",
      "34\n"
     ]
    }
   ],
   "source": [
    "\"\"\"Q6. Write a Python program to print the first 10 Fibonacci numbers using a while loop.\"\"\"\n",
    "\n",
    "def fibonacci(n):\n",
    "    a, b = 0, 1\n",
    "    count = 0\n",
    "    while count < n:\n",
    "        print(a)\n",
    "        a, b = b, a + b\n",
    "        count += 1\n",
    "\n",
    "# Print the first 10 Fibonacci numbers\n",
    "fibonacci(10)\n"
   ]
  },
  {
   "cell_type": "code",
   "execution_count": null,
   "id": "98b6047f-759e-49f0-9cc6-5ab4dd6e37a2",
   "metadata": {},
   "outputs": [],
   "source": []
  },
  {
   "cell_type": "code",
   "execution_count": 20,
   "id": "19897b5f-c9e3-40a7-8561-b21d5e8b433f",
   "metadata": {},
   "outputs": [
    {
     "name": "stdout",
     "output_type": "stream",
     "text": [
      "['p', 'w', 's', 'k', 'i', 'l', 'l', 's']\n"
     ]
    }
   ],
   "source": [
    "\"\"\"Q7. Write a List Comprehension to iterate through the given string: ‘pwskills’.\"\"\"\n",
    "\n",
    "string = 'pwskills'\n",
    "result = [i for i in string]\n",
    "\n",
    "# Print the result\n",
    "print(result)\n"
   ]
  },
  {
   "cell_type": "code",
   "execution_count": null,
   "id": "59d5125e-af7c-4df5-8059-8e77f2fc5a19",
   "metadata": {},
   "outputs": [],
   "source": []
  }
 ],
 "metadata": {
  "kernelspec": {
   "display_name": "Python 3 (ipykernel)",
   "language": "python",
   "name": "python3"
  },
  "language_info": {
   "codemirror_mode": {
    "name": "ipython",
    "version": 3
   },
   "file_extension": ".py",
   "mimetype": "text/x-python",
   "name": "python",
   "nbconvert_exporter": "python",
   "pygments_lexer": "ipython3",
   "version": "3.10.8"
  }
 },
 "nbformat": 4,
 "nbformat_minor": 5
}
