{
 "cells": [
  {
   "cell_type": "code",
   "execution_count": null,
   "id": "6e1d68d3-b1d1-409f-b55a-f7f4fa0892fd",
   "metadata": {},
   "outputs": [],
   "source": [
    "Q1. Explain Class and Object with respect to Object-Oriented Programming. Give a suitable example.\n",
    "Q2. Name the four pillars of OOPs.\n",
    "Q3. Explain why the __init__() function is used. Give a suitable example.\n",
    "Q4. Why self is used in OOPs?\n",
    "Q5. What is inheritance? Give an example for each type of inheritance."
   ]
  },
  {
   "cell_type": "code",
   "execution_count": null,
   "id": "7bc465f2-a627-4289-bd8b-67286714dd20",
   "metadata": {},
   "outputs": [],
   "source": []
  },
  {
   "cell_type": "code",
   "execution_count": null,
   "id": "8f15a095-bcad-485a-be63-6e3270d16e1f",
   "metadata": {},
   "outputs": [],
   "source": [
    "#ans 1\n",
    "Class: A class in object-oriented programming (OOP) is a blueprint or template that defines the attributes (data) and behaviors (methods) that objects of the class should have. It acts as a blueprint from which individual objects are created.\n",
    "\n",
    "Object: An object is an instance of a class. It is a concrete entity created from a class blueprint, which contains its own state (data) and behavior (methods) as defined by the class.\n",
    "\n",
    "\n",
    "\n",
    "class Car:\n",
    "    def __init__(self, make, model):\n",
    "        self.make = make\n",
    "        self.model = model\n",
    "        \n",
    "    def display_info(self):\n",
    "        print(f\"Car: {self.make} {self.model}\")\n",
    "\n",
    "# Creating objects (instances) of the Car class\n",
    "car1 = Car(\"Toyota\", \"Camry\")\n",
    "car2 = Car(\"Honda\", \"Civic\")\n",
    "\n",
    "car1.display_info()  # Output: Car: Toyota Camry\n",
    "car2.display_info()  # Output: Car: Honda Civic\n"
   ]
  },
  {
   "cell_type": "code",
   "execution_count": null,
   "id": "4778eee8-bffa-445d-83b9-c2c717e94f8a",
   "metadata": {},
   "outputs": [],
   "source": []
  },
  {
   "cell_type": "code",
   "execution_count": null,
   "id": "23291991-e60a-4960-a92b-50ca6da090dc",
   "metadata": {},
   "outputs": [],
   "source": [
    "#ans2 \n",
    "The four pillars of object-oriented programming are:\n",
    "\n",
    "Encapsulation: Bundling of data (attributes) and methods (functions) that operate on the data into a single unit (class). Encapsulation helps in hiding the internal state and requiring all interaction to be performed through the object's methods.\n",
    "\n",
    "Abstraction: Showing only essential details and hiding the complex implementation. It helps in reducing complexity and managing large systems effectively.\n",
    "\n",
    "Inheritance: The capability of a class to derive properties and characteristics from another class. It promotes code reusability and allows for hierarchical classification.\n",
    "\n",
    "Polymorphism: The ability to present the same interface for different data types. It allows methods to be written to handle objects of different classes and still achieve the desired results."
   ]
  },
  {
   "cell_type": "code",
   "execution_count": null,
   "id": "c84992d7-19e8-40b2-9e68-e27e9c38aa09",
   "metadata": {},
   "outputs": [],
   "source": []
  },
  {
   "cell_type": "code",
   "execution_count": null,
   "id": "affe0db0-a51e-4161-a4ab-7c02eb21af00",
   "metadata": {},
   "outputs": [],
   "source": [
    "# ans 3\n",
    "The __init__() function is a special method in Python classes that is automatically called when a new instance (object) of the class is created. It initializes the object's attributes.\n",
    "\n",
    "class Person:\n",
    "    def __init__(self, name, age):\n",
    "        self.name = name\n",
    "        self.age = age\n",
    "        \n",
    "    def display_info(self):\n",
    "        print(f\"Name: {self.name}, Age: {self.age}\")\n",
    "\n",
    "# Creating an object of the Person class\n",
    "person1 = Person(\"Alice\", 30)\n",
    "person1.display_info()  # Output: Name: Alice, Age: 30\n"
   ]
  },
  {
   "cell_type": "code",
   "execution_count": null,
   "id": "9a4298cd-6679-47cd-9e60-46bfd244c4e9",
   "metadata": {},
   "outputs": [],
   "source": []
  },
  {
   "cell_type": "code",
   "execution_count": null,
   "id": "f16fa765-0815-4518-b0e7-a044bc08c5b2",
   "metadata": {},
   "outputs": [],
   "source": [
    "# awns 4\n",
    "\n",
    "In Python OOP, self is used as the first parameter in method definitions to refer to the instance of the class. It allows methods to access and modify instance attributes."
   ]
  },
  {
   "cell_type": "code",
   "execution_count": null,
   "id": "ba061a1b-9501-40ad-8539-2b07154589ab",
   "metadata": {},
   "outputs": [],
   "source": []
  },
  {
   "cell_type": "code",
   "execution_count": null,
   "id": "583244c9-0d51-4c47-be9b-dfbe6a52833b",
   "metadata": {},
   "outputs": [],
   "source": [
    "#ans 5\n",
    "\n",
    "Inheritance is the mechanism in OOP that allows one class to inherit the properties and methods of another class. It promotes code reusability and hierarchical classification of classes.\n",
    "\n",
    "Example types of inheritance:\n",
    "\n",
    "Single Inheritance:\n",
    "class Animal:\n",
    "    def speak(self):\n",
    "        print(\"Animal speaks\")\n",
    "\n",
    "class Dog(Animal):\n",
    "    def bark(self):\n",
    "        print(\"Dog barks\")\n",
    "\n",
    "dog = Dog()\n",
    "dog.speak()  # Output: Animal speaks\n",
    "dog.bark()   # Output: Dog barks\n",
    "\n",
    "\n",
    "#Multiple Inheritance:\n",
    "class A:\n",
    "    def methodA(self):\n",
    "        print(\"Method A\")\n",
    "\n",
    "class B:\n",
    "    def methodB(self):\n",
    "        print(\"Method B\")\n",
    "\n",
    "class C(A, B):\n",
    "    def methodC(self):\n",
    "        print(\"Method C\")\n",
    "\n",
    "c = C()\n",
    "c.methodA()  # Output: Method A\n",
    "c.methodB()  # Output: Method B\n",
    "c.methodC()  # Output: Method C\n",
    "\n",
    "\n",
    "#Multilevel Inheritance:\n",
    "class A:\n",
    "    def methodA(self):\n",
    "        print(\"Method A\")\n",
    "\n",
    "class B(A):\n",
    "    def methodB(self):\n",
    "        print(\"Method B\")\n",
    "\n",
    "class C(B):\n",
    "    def methodC(self):\n",
    "        print(\"Method C\")\n",
    "\n",
    "c = C()\n",
    "c.methodA()  # Output: Method A\n",
    "c.methodB()  # Output: Method B\n",
    "c.methodC()  # Output: Method C\n",
    "\n"
   ]
  },
  {
   "cell_type": "code",
   "execution_count": null,
   "id": "f416d0b6-2ace-4f33-950c-95563a7bf557",
   "metadata": {},
   "outputs": [],
   "source": []
  }
 ],
 "metadata": {
  "kernelspec": {
   "display_name": "Python 3 (ipykernel)",
   "language": "python",
   "name": "python3"
  },
  "language_info": {
   "codemirror_mode": {
    "name": "ipython",
    "version": 3
   },
   "file_extension": ".py",
   "mimetype": "text/x-python",
   "name": "python",
   "nbconvert_exporter": "python",
   "pygments_lexer": "ipython3",
   "version": "3.10.8"
  }
 },
 "nbformat": 4,
 "nbformat_minor": 5
}
